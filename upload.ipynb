{
 "cells": [
  {
   "cell_type": "code",
   "execution_count": 7,
   "metadata": {},
   "outputs": [
    {
     "name": "stdout",
     "output_type": "stream",
     "text": [
      "2024-11-06T20:16:35:INFO:__main__.<module>: Rightsholder ORCiD http://orcid.org/0000-0001-5828-6070\n",
      "2024-11-06T20:16:35:INFO:__main__.<module>: Using urn:node:DRP at https://drp.dataone.org/metacat/d1/mn/\n",
      "2024-11-06T20:16:35:INFO:__main__.<module>: Root path: /mnt/ceph/repos/drp/tiles-private/lidar/kuhlke_2024/globus\n"
     ]
    }
   ],
   "source": [
    "from d1_data_upload import utils, defs, d1\n",
    "from pathlib import Path\n",
    "from logging import getLogger\n",
    "\n",
    "conf = utils.get_config()\n",
    "DATA_ROOT = utils.get_data_root(conf)\n",
    "token = utils.get_token()\n",
    "orcid = conf.get('rightsholder_orcid')\n",
    "node = conf.get('nodeid')\n",
    "mn_url = conf.get('mnurl')\n",
    "client = utils.create_client(conf['mnurl'], token)\n",
    "L = getLogger(__name__)\n",
    "L.info(f'Rightsholder ORCiD {orcid}')\n",
    "L.info(f'Using {node} at {mn_url}')\n",
    "L.info(f'Root path: {DATA_ROOT}')\n"
   ]
  },
  {
   "cell_type": "code",
   "execution_count": 8,
   "metadata": {},
   "outputs": [],
   "source": [
    "pids = [\n",
    "    'urn:uuid:45d12b12-a2ff-4374-a6e5-071435a2f4dd',\n",
    "    'urn:uuid:71b2e2b8-4e63-4f5f-a0b7-bc29d953a4b0',\n",
    "    'urn:uuid:d6d79866-ecf2-4c0f-b4b3-71c241212949',\n",
    "    'urn:uuid:e375cdcc-d191-4272-9831-365c3b1bf1c9',\n",
    "    'urn:uuid:f5ddd3c1-947e-40f6-9822-54f4fb21f5eb',\n",
    "]\n"
   ]
  },
  {
   "cell_type": "code",
   "execution_count": null,
   "metadata": {},
   "outputs": [],
   "source": [
    "d1.upload_manager(pids=pids, orcid=orcid, client=client, node=node)"
   ]
  },
  {
   "cell_type": "code",
   "execution_count": null,
   "metadata": {},
   "outputs": [],
   "source": [
    "client._session.close()"
   ]
  }
 ],
 "metadata": {
  "kernelspec": {
   "display_name": "d1",
   "language": "python",
   "name": "python3"
  },
  "language_info": {
   "codemirror_mode": {
    "name": "ipython",
    "version": 3
   },
   "file_extension": ".py",
   "mimetype": "text/x-python",
   "name": "python",
   "nbconvert_exporter": "python",
   "pygments_lexer": "ipython3",
   "version": "3.10.9"
  }
 },
 "nbformat": 4,
 "nbformat_minor": 2
}
