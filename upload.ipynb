{
 "cells": [
  {
   "cell_type": "code",
   "execution_count": 1,
   "metadata": {},
   "outputs": [
    {
     "name": "stdout",
     "output_type": "stream",
     "text": [
      "2025-02-25T16:41:25:INFO:__main__.<module>: Rightsholder ORCiD http://orcid.org/0000-0001-5828-6070\n",
      "2025-02-25T16:41:25:INFO:__main__.<module>: Using urn:node:DRP at https://drp.dataone.org/metacat/d1/mn/\n",
      "2025-02-25T16:41:25:INFO:__main__.<module>: Root path: /mnt/ceph/repos/drp/tiles-private/lidar/kuhlke_2024/globus\n"
     ]
    }
   ],
   "source": [
    "from d1_data_upload import utils, d1\n",
    "from logging import getLogger\n",
    "\n",
    "conf = utils.get_config()\n",
    "DATA_ROOT = utils.get_data_root(conf)\n",
    "token = utils.get_token()\n",
    "orcid = conf.get('rightsholder_orcid')\n",
    "node = conf.get('nodeid')\n",
    "mn_url = conf.get('mnurl')\n",
    "client = utils.create_client(conf['mnurl'], token)\n",
    "L = getLogger(__name__)\n",
    "L.info(f'Rightsholder ORCiD {orcid}')\n",
    "L.info(f'Using {node} at {mn_url}')\n",
    "L.info(f'Root path: {DATA_ROOT}')\n"
   ]
  },
  {
   "cell_type": "code",
   "execution_count": 2,
   "metadata": {},
   "outputs": [],
   "source": [
    "pids = [\n",
    "    # 'urn:uuid:2e390cd7-416e-4fb6-aa45-d1544988f247',\n",
    "    # 'urn:uuid:f6bc384c-4ca4-471f-a38e-54fda2a0f374',\n",
    "    #'urn:uuid:0d3708e9-7510-4756-9722-00bfe959975e',\n",
    "    'urn:uuid:230e4ebe-b903-443f-aec7-ed671c042942',\n",
    "    'urn:uuid:23a406b5-6381-4140-b2da-52908ca2c383',\n",
    "    'urn:uuid:2bce89b5-7a2e-4b39-9f28-41310d19239f',\n",
    "    'urn:uuid:9a779eb5-3755-4c13-a933-86457b5fa861',\n",
    "    'urn:uuid:c112d48a-49a8-449f-a0c2-6914b1f5dee6',\n",
    "    'urn:uuid:83ef4cf3-75d5-403f-9406-8eca419b1ed7',\n",
    "    'urn:uuid:42027197-b510-4d6d-8622-b9443f4ce67e',\n",
    "    'urn:uuid:d864f53c-5c5e-4c31-a0a9-206a609ffc72',\n",
    "    'urn:uuid:288b5c6d-c8a7-453c-a60f-75459d6d1711',\n",
    "    'urn:uuid:15e03dd8-5388-4241-a9fa-0df2e366dcab',\n",
    "    'urn:uuid:43279fdd-2ab1-424a-9525-20066df91351',\n",
    "    'urn:uuid:59971b60-8055-4745-bb11-766a6b1206c4',\n",
    "    'urn:uuid:72823877-cb0f-4d59-adb9-272fd3fa7790',\n",
    "    'urn:uuid:95376656-bb06-46d9-93cd-ceee47cd780d',\n",
    "    'urn:uuid:e1c8fb22-5c2c-4c3b-a030-b7c50132e27d',\n",
    "    # 'urn:uuid:f47e2635-aedd-4817-8c3f-ca699b21a8ad',\n",
    "    # 'urn:uuid:45d12b12-a2ff-4374-a6e5-071435a2f4dd',\n",
    "    # 'urn:uuid:71b2e2b8-4e63-4f5f-a0b7-bc29d953a4b0',\n",
    "    # 'urn:uuid:d6d79866-ecf2-4c0f-b4b3-71c241212949',\n",
    "    # 'urn:uuid:e375cdcc-d191-4272-9831-365c3b1bf1c9',\n",
    "    # 'urn:uuid:f5ddd3c1-947e-40f6-9822-54f4fb21f5eb',\n",
    "]\n"
   ]
  },
  {
   "cell_type": "code",
   "execution_count": null,
   "metadata": {},
   "outputs": [],
   "source": [
    "d1.upload_manager(pids=pids, orcid=orcid, client=client, node=node, data_root=DATA_ROOT)"
   ]
  },
  {
   "cell_type": "code",
   "execution_count": 6,
   "metadata": {},
   "outputs": [],
   "source": [
    "client._session.close()"
   ]
  }
 ],
 "metadata": {
  "kernelspec": {
   "display_name": "d1",
   "language": "python",
   "name": "python3"
  },
  "language_info": {
   "codemirror_mode": {
    "name": "ipython",
    "version": 3
   },
   "file_extension": ".py",
   "mimetype": "text/x-python",
   "name": "python",
   "nbconvert_exporter": "python",
   "pygments_lexer": "ipython3",
   "version": "3.10.9"
  }
 },
 "nbformat": 4,
 "nbformat_minor": 2
}
